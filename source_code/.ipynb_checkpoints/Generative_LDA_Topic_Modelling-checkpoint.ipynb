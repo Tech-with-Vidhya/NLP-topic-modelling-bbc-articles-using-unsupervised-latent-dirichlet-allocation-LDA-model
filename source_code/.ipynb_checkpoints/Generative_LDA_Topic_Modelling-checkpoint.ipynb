{
 "cells": [
  {
   "cell_type": "markdown",
   "id": "12db2518-e7b1-4831-a192-c8c3f61b8974",
   "metadata": {},
   "source": [
    "# NLP TOPIC MODELLING OF BBC ARTICLES - USING UNSUPERVISED LATENT DIRICHLET ALLOCATION (LDA) GENERATIVE MODEL"
   ]
  },
  {
   "cell_type": "markdown",
   "id": "194f9f94-dfeb-4916-a080-f9682dcad6b4",
   "metadata": {},
   "source": [
    "## Importing the Python Pandas Library"
   ]
  },
  {
   "cell_type": "code",
   "execution_count": 1,
   "id": "d51371c8-4fab-423e-9d56-d0625229ba46",
   "metadata": {},
   "outputs": [
    {
     "name": "stdout",
     "output_type": "stream",
     "text": [
      "Import Completed\n"
     ]
    }
   ],
   "source": [
    "import pandas as pd\n",
    "\n",
    "print(\"Import Completed\")"
   ]
  },
  {
   "cell_type": "markdown",
   "id": "4aa87dfe-0f2f-44a7-bd89-2d1c127dc99b",
   "metadata": {},
   "source": [
    "## Loading the BBC Articles CSV File Data"
   ]
  },
  {
   "cell_type": "code",
   "execution_count": 2,
   "id": "4833bef7-393c-4d40-9ffc-2afa5547cd0d",
   "metadata": {},
   "outputs": [
    {
     "name": "stdout",
     "output_type": "stream",
     "text": [
      "Data Import Completed\n"
     ]
    }
   ],
   "source": [
    "data = pd.read_csv(\"/Users/vidhyalakshmiparthasarathy/.CMVolumes/Google-Drive-pbvidhya/~~~VP_Data_Science/DS_Real_Time_Projects/NLP_Topic_Modelling_of_BBC_Articles_using_Unsupervised_Latent Dirichlet Allocation_LDA_Model/data/bbc_articles_2018.csv\")\n",
    "\n",
    "print(\"Data Import Completed\")"
   ]
  },
  {
   "cell_type": "markdown",
   "id": "e1265dfc-e8c1-42c2-8e0b-e07597d6874b",
   "metadata": {},
   "source": [
    "## Data Exploration"
   ]
  },
  {
   "cell_type": "code",
   "execution_count": 3,
   "id": "eb06a9e7-83a3-42f7-9285-8ed09c31f3a6",
   "metadata": {},
   "outputs": [
    {
     "data": {
      "text/plain": [
       "(309, 2)"
      ]
     },
     "execution_count": 3,
     "metadata": {},
     "output_type": "execute_result"
    }
   ],
   "source": [
    "# Verifying the shape of the Data\n",
    "\n",
    "data.shape"
   ]
  },
  {
   "cell_type": "code",
   "execution_count": null,
   "id": "dea95136-347e-4487-a837-9622eaf4157e",
   "metadata": {},
   "outputs": [],
   "source": [
    "# Verifying the First 5 Rows of Data Instances\n",
    "\n",
    "data.head()"
   ]
  },
  {
   "cell_type": "code",
   "execution_count": null,
   "id": "437c9cd1-91cc-44f8-8a05-f5ae66e1999c",
   "metadata": {},
   "outputs": [],
   "source": [
    "# Verifying the Last 5 Rows of Data Instances\n",
    "\n",
    "data.tail()"
   ]
  },
  {
   "cell_type": "markdown",
   "id": "1224ad92-b947-4c19-b92d-abf555d326b6",
   "metadata": {},
   "source": [
    "### As we can see from the above results; there are a total of 309 BBC articles with 2 attributes namely 'articles' containing the article content in the text format and 'lang' that denotes the language of the article."
   ]
  },
  {
   "cell_type": "markdown",
   "id": "641678a8-10e6-4c44-8c53-3f004f7a60f1",
   "metadata": {},
   "source": [
    "## Data Cleaning"
   ]
  },
  {
   "cell_type": "code",
   "execution_count": 7,
   "id": "6e81d3d6-2da6-4a2f-a2af-6a97e339f351",
   "metadata": {},
   "outputs": [
    {
     "name": "stdout",
     "output_type": "stream",
     "text": [
      "Execution Completed\n"
     ]
    }
   ],
   "source": [
    "# Removal of the Blank Articles\n",
    "\n",
    "data = data.dropna().reset_index(drop=True)\n",
    "\n",
    "print(\"Execution Completed\")"
   ]
  },
  {
   "cell_type": "code",
   "execution_count": 8,
   "id": "583d74d0-6f90-4ef5-9f14-fb40e5409291",
   "metadata": {},
   "outputs": [
    {
     "data": {
      "text/plain": [
       "(308, 2)"
      ]
     },
     "execution_count": 8,
     "metadata": {},
     "output_type": "execute_result"
    }
   ],
   "source": [
    "# Re-verifying the shape of the Data after cleaning the articles with missing information\n",
    "\n",
    "data.shape"
   ]
  },
  {
   "cell_type": "markdown",
   "id": "bb8e746c-9eb7-4328-93df-3b9426065cb0",
   "metadata": {},
   "source": [
    "### As we can see from the above results; there is only one row of article data with missing information."
   ]
  },
  {
   "cell_type": "markdown",
   "id": "6c361e64-8334-4772-a9db-fa35ef76f0cb",
   "metadata": {},
   "source": [
    "### Retaining only the English articles for our modellling purposes"
   ]
  },
  {
   "cell_type": "code",
   "execution_count": 12,
   "id": "05559504-5af6-4374-9f3d-816ad19cef03",
   "metadata": {},
   "outputs": [
    {
     "ename": "ModuleNotFoundError",
     "evalue": "No module named 'langdetect'",
     "output_type": "error",
     "traceback": [
      "\u001b[0;31m---------------------------------------------------------------------------\u001b[0m",
      "\u001b[0;31mModuleNotFoundError\u001b[0m                       Traceback (most recent call last)",
      "\u001b[0;32m<ipython-input-12-a4b954e4cd7e>\u001b[0m in \u001b[0;36m<module>\u001b[0;34m\u001b[0m\n\u001b[0;32m----> 1\u001b[0;31m \u001b[0;32mfrom\u001b[0m \u001b[0mlangdetect\u001b[0m \u001b[0;32mimport\u001b[0m \u001b[0mdetect\u001b[0m\u001b[0;34m\u001b[0m\u001b[0;34m\u001b[0m\u001b[0m\n\u001b[0m\u001b[1;32m      2\u001b[0m \u001b[0;32mfrom\u001b[0m \u001b[0mtqdm\u001b[0m \u001b[0;32mimport\u001b[0m \u001b[0mtqdm_notebook\u001b[0m\u001b[0;34m\u001b[0m\u001b[0;34m\u001b[0m\u001b[0m\n\u001b[1;32m      3\u001b[0m \u001b[0;34m\u001b[0m\u001b[0m\n\u001b[1;32m      4\u001b[0m \u001b[0mtqdm_notebook\u001b[0m\u001b[0;34m(\u001b[0m\u001b[0;34m)\u001b[0m\u001b[0;34m.\u001b[0m\u001b[0mpandas\u001b[0m\u001b[0;34m(\u001b[0m\u001b[0;34m)\u001b[0m\u001b[0;34m\u001b[0m\u001b[0;34m\u001b[0m\u001b[0m\n\u001b[1;32m      5\u001b[0m \u001b[0;34m\u001b[0m\u001b[0m\n",
      "\u001b[0;31mModuleNotFoundError\u001b[0m: No module named 'langdetect'"
     ]
    }
   ],
   "source": [
    "from langdetect import detect\n",
    "from tqdm import tqdm_notebook\n",
    "\n",
    "tqdm_notebook().pandas()\n",
    "\n",
    "print(\"Execution Completed\")"
   ]
  },
  {
   "cell_type": "code",
   "execution_count": null,
   "id": "77d083d0-9575-47dc-ba01-4cce3f4ef960",
   "metadata": {},
   "outputs": [],
   "source": []
  }
 ],
 "metadata": {
  "kernelspec": {
   "display_name": "Python 3",
   "language": "python",
   "name": "python3"
  },
  "language_info": {
   "codemirror_mode": {
    "name": "ipython",
    "version": 3
   },
   "file_extension": ".py",
   "mimetype": "text/x-python",
   "name": "python",
   "nbconvert_exporter": "python",
   "pygments_lexer": "ipython3",
   "version": "3.8.3"
  }
 },
 "nbformat": 4,
 "nbformat_minor": 5
}
